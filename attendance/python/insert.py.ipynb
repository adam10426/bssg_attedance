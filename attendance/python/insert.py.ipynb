{
 "cells": [
  {
   "cell_type": "markdown",
   "id": "b920210a",
   "metadata": {},
   "source": [
    "# INSTALLING LIBRARIES"
   ]
  },
  {
   "cell_type": "code",
   "execution_count": 5,
   "id": "37692f82",
   "metadata": {},
   "outputs": [
    {
     "name": "stdout",
     "output_type": "stream",
     "text": [
      "Defaulting to user installation because normal site-packages is not writeable\n",
      "Requirement already satisfied: psycopg2 in /home/bb001/.local/lib/python3.10/site-packages (2.9.5)\n",
      "\n",
      "\u001b[1m[\u001b[0m\u001b[34;49mnotice\u001b[0m\u001b[1;39;49m]\u001b[0m\u001b[39;49m A new release of pip is available: \u001b[0m\u001b[31;49m23.0\u001b[0m\u001b[39;49m -> \u001b[0m\u001b[32;49m23.2.1\u001b[0m\n",
      "\u001b[1m[\u001b[0m\u001b[34;49mnotice\u001b[0m\u001b[1;39;49m]\u001b[0m\u001b[39;49m To update, run: \u001b[0m\u001b[32;49mpython3 -m pip install --upgrade pip\u001b[0m\n",
      "Defaulting to user installation because normal site-packages is not writeable\n",
      "Collecting pandas\n",
      "  Downloading pandas-2.0.3-cp310-cp310-manylinux_2_17_x86_64.manylinux2014_x86_64.whl (12.3 MB)\n",
      "\u001b[2K     \u001b[38;2;114;156;31m━━━━━━━━━━━━━━━━━━━━━━━━━━━━━━━━━━━━━━━━\u001b[0m \u001b[32m12.3/12.3 MB\u001b[0m \u001b[31m8.1 MB/s\u001b[0m eta \u001b[36m0:00:00\u001b[0mm eta \u001b[36m0:00:01\u001b[0m[36m0:00:01\u001b[0mm\n",
      "\u001b[?25hRequirement already satisfied: pytz>=2020.1 in /usr/lib/python3/dist-packages (from pandas) (2022.1)\n",
      "Requirement already satisfied: tzdata>=2022.1 in /home/bb001/.local/lib/python3.10/site-packages (from pandas) (2022.7)\n",
      "Requirement already satisfied: python-dateutil>=2.8.2 in /home/bb001/.local/lib/python3.10/site-packages (from pandas) (2.8.2)\n",
      "Requirement already satisfied: numpy>=1.21.0 in /usr/lib/python3/dist-packages (from pandas) (1.21.5)\n",
      "Requirement already satisfied: six>=1.5 in /usr/lib/python3/dist-packages (from python-dateutil>=2.8.2->pandas) (1.16.0)\n",
      "Installing collected packages: pandas\n",
      "Successfully installed pandas-2.0.3\n",
      "\n",
      "\u001b[1m[\u001b[0m\u001b[34;49mnotice\u001b[0m\u001b[1;39;49m]\u001b[0m\u001b[39;49m A new release of pip is available: \u001b[0m\u001b[31;49m23.0\u001b[0m\u001b[39;49m -> \u001b[0m\u001b[32;49m23.2.1\u001b[0m\n",
      "\u001b[1m[\u001b[0m\u001b[34;49mnotice\u001b[0m\u001b[1;39;49m]\u001b[0m\u001b[39;49m To update, run: \u001b[0m\u001b[32;49mpython3 -m pip install --upgrade pip\u001b[0m\n"
     ]
    }
   ],
   "source": [
    "!pip install psycopg2\n",
    "!pip install pandas"
   ]
  },
  {
   "cell_type": "code",
   "execution_count": 2,
   "id": "842c32f8",
   "metadata": {},
   "outputs": [],
   "source": [
    "import pandas as pd\n",
    "import psycopg2"
   ]
  },
  {
   "cell_type": "code",
   "execution_count": 67,
   "id": "d83db535",
   "metadata": {},
   "outputs": [
    {
     "data": {
      "text/html": [
       "<div>\n",
       "<style scoped>\n",
       "    .dataframe tbody tr th:only-of-type {\n",
       "        vertical-align: middle;\n",
       "    }\n",
       "\n",
       "    .dataframe tbody tr th {\n",
       "        vertical-align: top;\n",
       "    }\n",
       "\n",
       "    .dataframe thead th {\n",
       "        text-align: right;\n",
       "    }\n",
       "</style>\n",
       "<table border=\"1\" class=\"dataframe\">\n",
       "  <thead>\n",
       "    <tr style=\"text-align: right;\">\n",
       "      <th></th>\n",
       "      <th>Name</th>\n",
       "      <th>Father Name</th>\n",
       "      <th>Last Name</th>\n",
       "      <th>ITS</th>\n",
       "      <th>Contact</th>\n",
       "      <th>Email</th>\n",
       "      <th>TYPE</th>\n",
       "      <th>RANK</th>\n",
       "      <th>Unnamed: 8</th>\n",
       "      <th>Unnamed: 9</th>\n",
       "      <th>Unnamed: 10</th>\n",
       "    </tr>\n",
       "  </thead>\n",
       "  <tbody>\n",
       "    <tr>\n",
       "      <th>0</th>\n",
       "      <td>Adam</td>\n",
       "      <td>Abid</td>\n",
       "      <td>Diwan</td>\n",
       "      <td>50432468</td>\n",
       "      <td>923151115512</td>\n",
       "      <td>NaN</td>\n",
       "      <td>Scouts</td>\n",
       "      <td>Boy Scout Leader</td>\n",
       "      <td>NaN</td>\n",
       "      <td>NaN</td>\n",
       "      <td>NaN</td>\n",
       "    </tr>\n",
       "    <tr>\n",
       "      <th>1</th>\n",
       "      <td>Abbas</td>\n",
       "      <td>Shabbir</td>\n",
       "      <td>Terai</td>\n",
       "      <td>40463389</td>\n",
       "      <td>923351522153</td>\n",
       "      <td>NaN</td>\n",
       "      <td>Scouts</td>\n",
       "      <td>Senior Patrol Leader</td>\n",
       "      <td>NaN</td>\n",
       "      <td>NaN</td>\n",
       "      <td>NaN</td>\n",
       "    </tr>\n",
       "    <tr>\n",
       "      <th>2</th>\n",
       "      <td>Abdul Qader</td>\n",
       "      <td>Hatim</td>\n",
       "      <td>Ujjainwala</td>\n",
       "      <td>50436952</td>\n",
       "      <td>923310385353</td>\n",
       "      <td>NaN</td>\n",
       "      <td>Scouts</td>\n",
       "      <td>Patrol Leader</td>\n",
       "      <td>NaN</td>\n",
       "      <td>NaN</td>\n",
       "      <td>NaN</td>\n",
       "    </tr>\n",
       "    <tr>\n",
       "      <th>3</th>\n",
       "      <td>Abdullah</td>\n",
       "      <td>Abid</td>\n",
       "      <td>Diwan</td>\n",
       "      <td>40466810</td>\n",
       "      <td>923232803623</td>\n",
       "      <td>NaN</td>\n",
       "      <td>Scouts</td>\n",
       "      <td>Patrol Leader</td>\n",
       "      <td>NaN</td>\n",
       "      <td>NaN</td>\n",
       "      <td>NaN</td>\n",
       "    </tr>\n",
       "    <tr>\n",
       "      <th>4</th>\n",
       "      <td>Aliasghar</td>\n",
       "      <td>Shabbir</td>\n",
       "      <td>Burhanpurwala</td>\n",
       "      <td>40496495</td>\n",
       "      <td>923170803803</td>\n",
       "      <td>NaN</td>\n",
       "      <td>Scouts</td>\n",
       "      <td>Patrol Leader</td>\n",
       "      <td>NaN</td>\n",
       "      <td>NaN</td>\n",
       "      <td>NaN</td>\n",
       "    </tr>\n",
       "  </tbody>\n",
       "</table>\n",
       "</div>"
      ],
      "text/plain": [
       "          Name Father Name      Last Name       ITS       Contact  Email  \\\n",
       "0         Adam        Abid          Diwan  50432468  923151115512    NaN   \n",
       "1        Abbas     Shabbir          Terai  40463389  923351522153    NaN   \n",
       "2  Abdul Qader       Hatim     Ujjainwala  50436952  923310385353    NaN   \n",
       "3     Abdullah        Abid          Diwan  40466810  923232803623    NaN   \n",
       "4   Aliasghar      Shabbir  Burhanpurwala  40496495  923170803803    NaN   \n",
       "\n",
       "     TYPE                  RANK Unnamed: 8  Unnamed: 9 Unnamed: 10  \n",
       "0  Scouts      Boy Scout Leader        NaN         NaN         NaN  \n",
       "1  Scouts  Senior Patrol Leader        NaN         NaN         NaN  \n",
       "2  Scouts         Patrol Leader        NaN         NaN         NaN  \n",
       "3  Scouts         Patrol Leader        NaN         NaN         NaN  \n",
       "4  Scouts         Patrol Leader        NaN         NaN         NaN  "
      ]
     },
     "execution_count": 67,
     "metadata": {},
     "output_type": "execute_result"
    }
   ],
   "source": [
    "df =pd.read_csv('db_records.csv')\n",
    "df.head()"
   ]
  },
  {
   "cell_type": "code",
   "execution_count": 68,
   "id": "f12a54d8",
   "metadata": {},
   "outputs": [],
   "source": [
    "columns = df.columns[0:8]\n",
    "newDf = df[columns]\n"
   ]
  },
  {
   "cell_type": "code",
   "execution_count": 69,
   "id": "98b0889e",
   "metadata": {},
   "outputs": [],
   "source": [
    "conn = psycopg2.connect(\n",
    "    host=\"localhost\",\n",
    "    database=\"attendance\",\n",
    "    user=\"bssg\",\n",
    "    password=\"div3\")\n",
    "cur = conn.cursor()\n",
    "query = \"INSERT INTO members (name,father_name,last_name,its,contact,type,rank) VALUES (%s,%s,%s,%s,%s,%s,%s);\"\n",
    "for i in range(30):\n",
    "    if not pd.isna(newDf.loc[i,'Name']) and not i == 0:\n",
    "        try:\n",
    "            cur.execute(query,(newDf.loc[i, \"Name\"],newDf.loc[i, \"Father Name\"],newDf.loc[i, \"Last Name\"],int(newDf.loc[i, \"ITS\"]),newDf.loc[i, \"Contact\"],newDf.loc[i, \"TYPE\"],newDf.loc[i, \"RANK\"]))\n",
    "        except Exception as e:\n",
    "            print(newDf.loc[i, \"Contact\"])\n",
    "conn.commit()\n",
    "conn.close()\n",
    "\n",
    "\n",
    "\n",
    "\n",
    "\n",
    "        "
   ]
  },
  {
   "cell_type": "code",
   "execution_count": 40,
   "id": "408e4d92",
   "metadata": {},
   "outputs": [
    {
     "name": "stdout",
     "output_type": "stream",
     "text": [
      "1\n",
      "Adam\n",
      "50432468\n",
      "923151115512\n",
      "adamabid521@gmail.com\n",
      "Scouts\n",
      "Boy Scout Leader\n",
      "Abid\n",
      "Diwan\n"
     ]
    }
   ],
   "source": [
    "conn = psycopg2.connect(\n",
    "    host=\"localhost\",\n",
    "    database=\"attendance\",\n",
    "    user=\"bssg\",\n",
    "    password=\"div3\")\n",
    "cur = conn.cursor()\n",
    "cur.execute('Select * from members')\n",
    "rows = cur.fetchone()\n",
    "conn.commit()\n",
    "conn.close()\n",
    "for row in rows:\n",
    "    print(row)"
   ]
  }
 ],
 "metadata": {
  "kernelspec": {
   "display_name": "Python 3 (ipykernel)",
   "language": "python",
   "name": "python3"
  },
  "language_info": {
   "codemirror_mode": {
    "name": "ipython",
    "version": 3
   },
   "file_extension": ".py",
   "mimetype": "text/x-python",
   "name": "python",
   "nbconvert_exporter": "python",
   "pygments_lexer": "ipython3",
   "version": "3.10.12"
  }
 },
 "nbformat": 4,
 "nbformat_minor": 5
}
