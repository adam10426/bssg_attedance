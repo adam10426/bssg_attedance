{
 "cells": [
  {
   "cell_type": "markdown",
   "id": "b920210a",
   "metadata": {},
   "source": [
    "# INSTALLING LIBRARIES"
   ]
  },
  {
   "cell_type": "code",
   "execution_count": 1,
   "id": "37692f82",
   "metadata": {},
   "outputs": [
    {
     "name": "stdout",
     "output_type": "stream",
     "text": [
      "Collecting psycopg2\n",
      "  Downloading psycopg2-2.9.7-cp311-cp311-win_amd64.whl (1.2 MB)\n",
      "                                              0.0/1.2 MB ? eta -:--:--\n",
      "     --                                       0.1/1.2 MB 4.5 MB/s eta 0:00:01\n",
      "     -------                                  0.2/1.2 MB 3.5 MB/s eta 0:00:01\n",
      "     ------------                             0.4/1.2 MB 2.9 MB/s eta 0:00:01\n",
      "     -------------------                      0.6/1.2 MB 3.3 MB/s eta 0:00:01\n",
      "     ------------------------                 0.7/1.2 MB 3.4 MB/s eta 0:00:01\n",
      "     ------------------------------           0.9/1.2 MB 3.7 MB/s eta 0:00:01\n",
      "     ------------------------------           0.9/1.2 MB 3.7 MB/s eta 0:00:01\n",
      "     ------------------------------           0.9/1.2 MB 3.7 MB/s eta 0:00:01\n",
      "     ------------------------------           0.9/1.2 MB 3.7 MB/s eta 0:00:01\n",
      "     -------------------------------------    1.1/1.2 MB 2.6 MB/s eta 0:00:01\n",
      "     ---------------------------------------- 1.2/1.2 MB 2.4 MB/s eta 0:00:00\n",
      "Installing collected packages: psycopg2\n",
      "Successfully installed psycopg2-2.9.7\n",
      "Requirement already satisfied: pandas in c:\\users\\dell\\anaconda3\\lib\\site-packages (1.5.3)\n",
      "Requirement already satisfied: python-dateutil>=2.8.1 in c:\\users\\dell\\anaconda3\\lib\\site-packages (from pandas) (2.8.2)\n",
      "Requirement already satisfied: pytz>=2020.1 in c:\\users\\dell\\anaconda3\\lib\\site-packages (from pandas) (2022.7)\n",
      "Requirement already satisfied: numpy>=1.21.0 in c:\\users\\dell\\anaconda3\\lib\\site-packages (from pandas) (1.24.3)\n",
      "Requirement already satisfied: six>=1.5 in c:\\users\\dell\\anaconda3\\lib\\site-packages (from python-dateutil>=2.8.1->pandas) (1.16.0)\n"
     ]
    }
   ],
   "source": [
    "!pip install psycopg2\n",
    "!pip install pandas"
   ]
  },
  {
   "cell_type": "code",
   "execution_count": 2,
   "id": "842c32f8",
   "metadata": {},
   "outputs": [],
   "source": [
    "import pandas as pd\n",
    "import psycopg2"
   ]
  },
  {
   "cell_type": "code",
   "execution_count": 3,
   "id": "d83db535",
   "metadata": {},
   "outputs": [
    {
     "data": {
      "text/html": [
       "<div>\n",
       "<style scoped>\n",
       "    .dataframe tbody tr th:only-of-type {\n",
       "        vertical-align: middle;\n",
       "    }\n",
       "\n",
       "    .dataframe tbody tr th {\n",
       "        vertical-align: top;\n",
       "    }\n",
       "\n",
       "    .dataframe thead th {\n",
       "        text-align: right;\n",
       "    }\n",
       "</style>\n",
       "<table border=\"1\" class=\"dataframe\">\n",
       "  <thead>\n",
       "    <tr style=\"text-align: right;\">\n",
       "      <th></th>\n",
       "      <th>Name</th>\n",
       "      <th>Father Name</th>\n",
       "      <th>Last Name</th>\n",
       "      <th>ITS</th>\n",
       "      <th>Contact</th>\n",
       "      <th>Email</th>\n",
       "      <th>TYPE</th>\n",
       "      <th>RANK</th>\n",
       "      <th>Unnamed: 8</th>\n",
       "      <th>Unnamed: 9</th>\n",
       "      <th>Unnamed: 10</th>\n",
       "    </tr>\n",
       "  </thead>\n",
       "  <tbody>\n",
       "    <tr>\n",
       "      <th>0</th>\n",
       "      <td>Adam</td>\n",
       "      <td>Abid</td>\n",
       "      <td>Diwan</td>\n",
       "      <td>50432468</td>\n",
       "      <td>923151115512</td>\n",
       "      <td>NaN</td>\n",
       "      <td>Scouts</td>\n",
       "      <td>Boy Scout Leader</td>\n",
       "      <td>NaN</td>\n",
       "      <td>NaN</td>\n",
       "      <td>NaN</td>\n",
       "    </tr>\n",
       "    <tr>\n",
       "      <th>1</th>\n",
       "      <td>Abbas</td>\n",
       "      <td>Shabbir</td>\n",
       "      <td>Terai</td>\n",
       "      <td>40463389</td>\n",
       "      <td>923351522153</td>\n",
       "      <td>NaN</td>\n",
       "      <td>Scouts</td>\n",
       "      <td>Senior Patrol Leader</td>\n",
       "      <td>NaN</td>\n",
       "      <td>NaN</td>\n",
       "      <td>NaN</td>\n",
       "    </tr>\n",
       "    <tr>\n",
       "      <th>2</th>\n",
       "      <td>Abdul Qader</td>\n",
       "      <td>Hatim</td>\n",
       "      <td>Ujjainwala</td>\n",
       "      <td>50436952</td>\n",
       "      <td>923310385353</td>\n",
       "      <td>NaN</td>\n",
       "      <td>Scouts</td>\n",
       "      <td>Patrol Leader</td>\n",
       "      <td>NaN</td>\n",
       "      <td>NaN</td>\n",
       "      <td>NaN</td>\n",
       "    </tr>\n",
       "    <tr>\n",
       "      <th>3</th>\n",
       "      <td>Abdullah</td>\n",
       "      <td>Abid</td>\n",
       "      <td>Diwan</td>\n",
       "      <td>40466810</td>\n",
       "      <td>923232803623</td>\n",
       "      <td>NaN</td>\n",
       "      <td>Scouts</td>\n",
       "      <td>Patrol Leader</td>\n",
       "      <td>NaN</td>\n",
       "      <td>NaN</td>\n",
       "      <td>NaN</td>\n",
       "    </tr>\n",
       "    <tr>\n",
       "      <th>4</th>\n",
       "      <td>Aliasghar</td>\n",
       "      <td>Shabbir</td>\n",
       "      <td>Burhanpurwala</td>\n",
       "      <td>40496495</td>\n",
       "      <td>923170803803</td>\n",
       "      <td>NaN</td>\n",
       "      <td>Scouts</td>\n",
       "      <td>Patrol Leader</td>\n",
       "      <td>NaN</td>\n",
       "      <td>NaN</td>\n",
       "      <td>NaN</td>\n",
       "    </tr>\n",
       "  </tbody>\n",
       "</table>\n",
       "</div>"
      ],
      "text/plain": [
       "          Name Father Name      Last Name       ITS       Contact  Email  \\\n",
       "0         Adam        Abid          Diwan  50432468  923151115512    NaN   \n",
       "1        Abbas     Shabbir          Terai  40463389  923351522153    NaN   \n",
       "2  Abdul Qader       Hatim     Ujjainwala  50436952  923310385353    NaN   \n",
       "3     Abdullah        Abid          Diwan  40466810  923232803623    NaN   \n",
       "4   Aliasghar      Shabbir  Burhanpurwala  40496495  923170803803    NaN   \n",
       "\n",
       "     TYPE                  RANK Unnamed: 8  Unnamed: 9 Unnamed: 10  \n",
       "0  Scouts      Boy Scout Leader        NaN         NaN         NaN  \n",
       "1  Scouts  Senior Patrol Leader        NaN         NaN         NaN  \n",
       "2  Scouts         Patrol Leader        NaN         NaN         NaN  \n",
       "3  Scouts         Patrol Leader        NaN         NaN         NaN  \n",
       "4  Scouts         Patrol Leader        NaN         NaN         NaN  "
      ]
     },
     "execution_count": 3,
     "metadata": {},
     "output_type": "execute_result"
    }
   ],
   "source": [
    "df =pd.read_csv('db_records.csv')\n",
    "df.head()"
   ]
  },
  {
   "cell_type": "code",
   "execution_count": 4,
   "id": "f12a54d8",
   "metadata": {},
   "outputs": [],
   "source": [
    "columns = df.columns[0:8]\n",
    "newDf = df[columns]\n"
   ]
  },
  {
   "cell_type": "code",
   "execution_count": 6,
   "id": "98b0889e",
   "metadata": {},
   "outputs": [],
   "source": [
    "conn = psycopg2.connect(\n",
    "    host=\"localhost\",\n",
    "    database=\"attendance\",\n",
    "    user=\"bssg\",\n",
    "    password=\"admin\")\n",
    "cur = conn.cursor()\n",
    "query = \"INSERT INTO members (name,father_name,last_name,its,contact,type,rank) VALUES (%s,%s,%s,%s,%s,%s,%s);\"\n",
    "for i in range(30):\n",
    "    if not pd.isna(newDf.loc[i,'Name']):\n",
    "        try:\n",
    "            cur.execute(query,(newDf.loc[i, \"Name\"],newDf.loc[i, \"Father Name\"],newDf.loc[i, \"Last Name\"],int(newDf.loc[i, \"ITS\"]),newDf.loc[i, \"Contact\"],newDf.loc[i, \"TYPE\"],newDf.loc[i, \"RANK\"]))\n",
    "        except Exception as e:\n",
    "            print(newDf.loc[i, \"Contact\"])\n",
    "conn.commit()\n",
    "conn.close()\n",
    "\n",
    "\n",
    "\n",
    "\n",
    "\n",
    "        "
   ]
  },
  {
   "cell_type": "code",
   "execution_count": 8,
   "id": "408e4d92",
   "metadata": {},
   "outputs": [
    {
     "name": "stdout",
     "output_type": "stream",
     "text": [
      "1\n",
      "Adam\n",
      "50432468\n",
      "923151115512\n",
      "None\n",
      "Scouts\n",
      "Boy Scout Leader\n",
      "Abid\n",
      "Diwan\n",
      "False\n"
     ]
    }
   ],
   "source": [
    "conn = psycopg2.connect(\n",
    "    host=\"localhost\",\n",
    "    database=\"attendance\",\n",
    "    user=\"bssg\",\n",
    "    password=\"admin\")\n",
    "cur = conn.cursor()\n",
    "cur.execute('Select * from members')\n",
    "rows = cur.fetchone()\n",
    "conn.commit()\n",
    "conn.close()\n",
    "for row in rows:\n",
    "    print(row)"
   ]
  }
 ],
 "metadata": {
  "kernelspec": {
   "display_name": "Python 3 (ipykernel)",
   "language": "python",
   "name": "python3"
  },
  "language_info": {
   "codemirror_mode": {
    "name": "ipython",
    "version": 3
   },
   "file_extension": ".py",
   "mimetype": "text/x-python",
   "name": "python",
   "nbconvert_exporter": "python",
   "pygments_lexer": "ipython3",
   "version": "3.11.3"
  }
 },
 "nbformat": 4,
 "nbformat_minor": 5
}
